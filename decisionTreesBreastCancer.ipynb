{
 "cells": [
  {
   "cell_type": "markdown",
   "metadata": {},
   "source": [
    "# **Decision Tree Classification on Breat Cancer Dataset**"
   ]
  },
  {
   "cell_type": "markdown",
   "metadata": {},
   "source": [
    "## Download the Breast Cancer Dataset"
   ]
  },
  {
   "cell_type": "code",
   "execution_count": 1,
   "metadata": {},
   "outputs": [],
   "source": [
    "import numpy as np\n",
    "import pandas as pd\n",
    "\n",
    "from sklearn.datasets import load_breast_cancer;\n",
    "\n",
    "cancer = load_breast_cancer();\n",
    "X = cancer.data;\n",
    "y = cancer.target;\n",
    "\n",
    "#data = np.c_[cancer.data, cancer.target];\n",
    "#columns = np.append(cancer.feature_names, [\"target\"]);\n",
    "\n",
    "#cancer.df = pd.DataFrame(data, columns = columns);\n",
    "#print(cancer.df.head());\n",
    "#print(\"\\ncancer.df.shape = \",cancer.df.shape);"
   ]
  },
  {
   "cell_type": "markdown",
   "metadata": {},
   "source": [
    "## 1. Divide the data into train (80%) and test (20%)"
   ]
  },
  {
   "cell_type": "code",
   "execution_count": 3,
   "metadata": {},
   "outputs": [
    {
     "name": "stdout",
     "output_type": "stream",
     "text": [
      "(455, 30)\n",
      "(455,)\n",
      "\r\n",
      "\n",
      "(114, 30)\n",
      "(114,)\n"
     ]
    }
   ],
   "source": [
    "from sklearn.model_selection import train_test_split;\n",
    "\n",
    "X_train , X_test, y_train, y_test = train_test_split(X,\n",
    "                                                     y,\n",
    "                                                     test_size = 0.2,\n",
    "                                                     random_state = 0);\n",
    "\n",
    "print(X_train.shape);\n",
    "print(y_train.shape);\n",
    "print(\"\\r\\n\");\n",
    "print(X_test.shape);\n",
    "print(y_test.shape);"
   ]
  },
  {
   "cell_type": "markdown",
   "metadata": {},
   "source": [
    "## 2. ***Decision Tree Classifier*** using all the features of the data. Model tested on the test data"
   ]
  },
  {
   "cell_type": "code",
   "execution_count": 4,
   "metadata": {},
   "outputs": [
    {
     "data": {
      "text/plain": [
       "DecisionTreeClassifier(ccp_alpha=0.0, class_weight=None, criterion='entropy',\n",
       "                       max_depth=3, max_features=None, max_leaf_nodes=None,\n",
       "                       min_impurity_decrease=0.0, min_impurity_split=None,\n",
       "                       min_samples_leaf=1, min_samples_split=2,\n",
       "                       min_weight_fraction_leaf=0.0, presort='deprecated',\n",
       "                       random_state=0, splitter='best')"
      ]
     },
     "execution_count": 4,
     "metadata": {},
     "output_type": "execute_result"
    }
   ],
   "source": [
    "from sklearn.tree import DecisionTreeClassifier;\n",
    "\n",
    "tree = DecisionTreeClassifier(criterion    =  'entropy',\n",
    "                              max_depth    =  3,\n",
    "                              random_state =  0 );\n",
    "tree.fit(X_train, y_train)"
   ]
  },
  {
   "cell_type": "code",
   "execution_count": 5,
   "metadata": {},
   "outputs": [
    {
     "data": {
      "text/plain": [
       "[Text(193.15384615384616, 190.26, 'worst concave points <= 0.142\\nentropy = 0.945\\nsamples = 455\\nvalue = [165, 290]'),\n",
       " Text(103.01538461538462, 135.9, 'worst perimeter <= 107.75\\nentropy = 0.399\\nsamples = 303\\nvalue = [24, 279]'),\n",
       " Text(51.50769230769231, 81.53999999999999, 'symmetry error <= 0.016\\nentropy = 0.133\\nsamples = 269\\nvalue = [5, 264]'),\n",
       " Text(25.753846153846155, 27.180000000000007, 'entropy = 0.337\\nsamples = 80\\nvalue = [5, 75]'),\n",
       " Text(77.26153846153846, 27.180000000000007, 'entropy = 0.0\\nsamples = 189\\nvalue = [0, 189]'),\n",
       " Text(154.52307692307693, 81.53999999999999, 'worst texture <= 20.22\\nentropy = 0.99\\nsamples = 34\\nvalue = [19, 15]'),\n",
       " Text(128.76923076923077, 27.180000000000007, 'entropy = 0.0\\nsamples = 11\\nvalue = [0, 11]'),\n",
       " Text(180.27692307692308, 27.180000000000007, 'entropy = 0.667\\nsamples = 23\\nvalue = [19, 4]'),\n",
       " Text(283.2923076923077, 135.9, 'worst perimeter <= 112.8\\nentropy = 0.375\\nsamples = 152\\nvalue = [141, 11]'),\n",
       " Text(257.53846153846155, 81.53999999999999, 'worst texture <= 27.575\\nentropy = 0.948\\nsamples = 30\\nvalue = [19, 11]'),\n",
       " Text(231.7846153846154, 27.180000000000007, 'entropy = 0.964\\nsamples = 18\\nvalue = [7, 11]'),\n",
       " Text(283.2923076923077, 27.180000000000007, 'entropy = 0.0\\nsamples = 12\\nvalue = [12, 0]'),\n",
       " Text(309.04615384615386, 81.53999999999999, 'entropy = 0.0\\nsamples = 122\\nvalue = [122, 0]')]"
      ]
     },
     "execution_count": 5,
     "metadata": {},
     "output_type": "execute_result"
    },
    {
     "data": {
      "image/png": "[encoded data removed]",
      "text/plain": [
       "<Figure size 432x288 with 1 Axes>"
      ]
     },
     "metadata": {
      "needs_background": "light"
     },
     "output_type": "display_data"
    }
   ],
   "source": [
    "from sklearn.tree import plot_tree;\n",
    "\n",
    "plot_tree(tree,\n",
    "          feature_names = cancer.feature_names,\n",
    "          fontsize      = 7 )"
   ]
  },
  {
   "cell_type": "code",
   "execution_count": 6,
   "metadata": {},
   "outputs": [
    {
     "name": "stdout",
     "output_type": "stream",
     "text": [
      "Train Set Accuracy :  0.9648351648351648\n",
      "Test Set Accuracy  :  0.9473684210526315\n"
     ]
    }
   ],
   "source": [
    "from sklearn.metrics import accuracy_score;\n",
    "y_pred_train = tree.predict(X_train);\n",
    "print(\"Train Set Accuracy : \", accuracy_score(y_train, y_pred_train))\n",
    "y_pred_test = tree.predict(X_test);\n",
    "print(\"Test Set Accuracy  : \", accuracy_score(y_test, y_pred_test))\n"
   ]
  },
  {
   "cell_type": "markdown",
   "metadata": {},
   "source": [
    "## 3. Model Run for trees of *depth 1, 2, 3, 4, 5, and 6* and for the ***Gini Impurity*** and ***Entropy impurity*** measures for each tree depth. "
   ]
  },
  {
   "cell_type": "markdown",
   "metadata": {},
   "source": [
    "### 3.1 Depth = 1"
   ]
  },
  {
   "cell_type": "code",
   "execution_count": 7,
   "metadata": {},
   "outputs": [],
   "source": [
    "# GINI IMPURITY\n",
    "tree_gin_d1 = DecisionTreeClassifier(criterion    =  'gini',\n",
    "                                     max_depth    =  1,\n",
    "                                     random_state =  0 );\n",
    "tree_gin_d1.fit(X_train, y_train)\n",
    "\n",
    "y_pred_train_gin_d1 = tree_gin_d1.predict(X_train);\n",
    "y_pred_test_gin_d1  = tree_gin_d1.predict(X_test);\n",
    "\n",
    "\n",
    "# ENTROPY IMPURITY\n",
    "tree_ent_d1 = DecisionTreeClassifier(criterion    =  'entropy',\n",
    "                                     max_depth    =  1,\n",
    "                                     random_state =  0 );\n",
    "tree_ent_d1.fit(X_train, y_train)\n",
    "\n",
    "y_pred_train_ent_d1 = tree_ent_d1.predict(X_train);\n",
    "y_pred_test_ent_d1  = tree_ent_d1.predict(X_test);"
   ]
  },
  {
   "cell_type": "markdown",
   "metadata": {},
   "source": [
    "### 3.2 Depth = 2"
   ]
  },
  {
   "cell_type": "code",
   "execution_count": 8,
   "metadata": {},
   "outputs": [],
   "source": [
    "# GINI IMPURITY\n",
    "tree_gin_d2 = DecisionTreeClassifier(criterion    =  'gini',\n",
    "                                     max_depth    =  2,\n",
    "                                     random_state =  0);\n",
    "tree_gin_d2.fit(X_train, y_train)\n",
    "\n",
    "y_pred_train_gin_d2 = tree_gin_d2.predict(X_train);\n",
    "y_pred_test_gin_d2  = tree_gin_d2.predict(X_test);\n",
    "\n",
    "\n",
    "# ENTROPY IMPURITY\n",
    "tree_ent_d2 = DecisionTreeClassifier(criterion    =  'entropy',\n",
    "                                     max_depth    =  2,\n",
    "                                     random_state =  0 );\n",
    "tree_ent_d2.fit(X_train, y_train)\n",
    "\n",
    "y_pred_train_ent_d2 = tree_ent_d2.predict(X_train);\n",
    "y_pred_test_ent_d2  = tree_ent_d2.predict(X_test);"
   ]
  },
  {
   "cell_type": "markdown",
   "metadata": {},
   "source": [
    "### 3.3 Depth = 3"
   ]
  },
  {
   "cell_type": "code",
   "execution_count": 9,
   "metadata": {},
   "outputs": [],
   "source": [
    "# GINI IMPURITY\n",
    "tree_gin_d3 = DecisionTreeClassifier(criterion    =  'gini',\n",
    "                                     max_depth    =  3,\n",
    "                                     random_state =  0 );\n",
    "tree_gin_d3.fit(X_train, y_train)\n",
    "\n",
    "y_pred_train_gin_d3 = tree_gin_d3.predict(X_train);\n",
    "y_pred_test_gin_d3  = tree_gin_d3.predict(X_test);\n",
    "\n",
    "\n",
    "# ENTROPY IMPURITY\n",
    "tree_ent_d3 = DecisionTreeClassifier(criterion    =  'entropy',\n",
    "                                     max_depth    =  3,\n",
    "                                     random_state =  0 );\n",
    "tree_ent_d3.fit(X_train, y_train)\n",
    "\n",
    "y_pred_train_ent_d3 = tree_ent_d3.predict(X_train);\n",
    "y_pred_test_ent_d3  = tree_ent_d3.predict(X_test);"
   ]
  },
  {
   "cell_type": "markdown",
   "metadata": {},
   "source": [
    "### 3.4 Depth = 4"
   ]
  },
  {
   "cell_type": "code",
   "execution_count": 10,
   "metadata": {},
   "outputs": [],
   "source": [
    "# GINI IMPURITY\n",
    "tree_gin_d4 = DecisionTreeClassifier(criterion    =  'gini',\n",
    "                                     max_depth    =  4,\n",
    "                                     random_state =  0 );\n",
    "tree_gin_d4.fit(X_train, y_train)\n",
    "\n",
    "y_pred_train_gin_d4 = tree_gin_d4.predict(X_train);\n",
    "y_pred_test_gin_d4  = tree_gin_d4.predict(X_test);\n",
    "\n",
    "\n",
    "# ENTROPY IMPURITY\n",
    "tree_ent_d4 = DecisionTreeClassifier(criterion    =  'entropy',\n",
    "                                     max_depth    =  4,\n",
    "                                     random_state =  0 );\n",
    "tree_ent_d4.fit(X_train, y_train)\n",
    "\n",
    "y_pred_train_ent_d4 = tree_ent_d4.predict(X_train);\n",
    "y_pred_test_ent_d4  = tree_ent_d4.predict(X_test);"
   ]
  },
  {
   "cell_type": "markdown",
   "metadata": {},
   "source": [
    "### 3.5 Depth = 5"
   ]
  },
  {
   "cell_type": "code",
   "execution_count": 11,
   "metadata": {},
   "outputs": [],
   "source": [
    "# GINI IMPURITY\n",
    "tree_gin_d5 = DecisionTreeClassifier(criterion    =  'gini',\n",
    "                                     max_depth    =  5,\n",
    "                                     random_state =  0 );\n",
    "tree_gin_d5.fit(X_train, y_train)\n",
    "\n",
    "y_pred_train_gin_d5 = tree_gin_d5.predict(X_train);\n",
    "y_pred_test_gin_d5  = tree_gin_d5.predict(X_test);\n",
    "\n",
    "\n",
    "# ENTROPY IMPURITY\n",
    "tree_ent_d5 = DecisionTreeClassifier(criterion    =  'entropy',\n",
    "                                     max_depth    =  5,\n",
    "                                     random_state =  0 );\n",
    "tree_ent_d5.fit(X_train, y_train)\n",
    "\n",
    "y_pred_train_ent_d5 = tree_ent_d5.predict(X_train);\n",
    "y_pred_test_ent_d5  = tree_ent_d5.predict(X_test);"
   ]
  },
  {
   "cell_type": "markdown",
   "metadata": {},
   "source": [
    "### 3.6 Depth = 6"
   ]
  },
  {
   "cell_type": "code",
   "execution_count": 12,
   "metadata": {},
   "outputs": [],
   "source": [
    "# GINI IMPURITY\n",
    "tree_gin_d6 = DecisionTreeClassifier(criterion    =  'gini',\n",
    "                                     max_depth    =  6,\n",
    "                                     random_state =  0 );\n",
    "tree_gin_d6.fit(X_train, y_train)\n",
    "\n",
    "y_pred_train_gin_d6 = tree_gin_d6.predict(X_train);\n",
    "y_pred_test_gin_d6  = tree_gin_d6.predict(X_test);\n",
    "\n",
    "\n",
    "# ENTROPY IMPURITY\n",
    "tree_ent_d6 = DecisionTreeClassifier(criterion    =  'entropy',\n",
    "                                     max_depth    =  6,\n",
    "                                     random_state =  0 );\n",
    "tree_ent_d6.fit(X_train, y_train)\n",
    "\n",
    "y_pred_train_ent_d6 = tree_ent_d6.predict(X_train);\n",
    "y_pred_test_ent_d6  = tree_ent_d6.predict(X_test);"
   ]
  },
  {
   "cell_type": "markdown",
   "metadata": {},
   "source": [
    "### 3.7 Comparison"
   ]
  },
  {
   "cell_type": "code",
   "execution_count": 13,
   "metadata": {},
   "outputs": [
    {
     "name": "stdout",
     "output_type": "stream",
     "text": [
      "\r\n",
      "DEPTH = 1\n",
      "\tGINI : \n",
      "\t\tTrain Set Accuracy :  0.9230769230769231\n",
      "\t\tTest Set Accuracy  :  0.9035087719298246\n",
      "\tENTROPY : \n",
      "\t\tTrain Set Accuracy :  0.9230769230769231\n",
      "\t\tTest Set Accuracy  :  0.9035087719298246\n",
      "\r\n",
      "DEPTH = 2\n",
      "\tGINI : \n",
      "\t\tTrain Set Accuracy :  0.9516483516483516\n",
      "\t\tTest Set Accuracy  :  0.9649122807017544\n",
      "\tENTROPY : \n",
      "\t\tTrain Set Accuracy :  0.9318681318681319\n",
      "\t\tTest Set Accuracy  :  0.9210526315789473\n",
      "\r\n",
      "DEPTH = 3\n",
      "\tGINI : \n",
      "\t\tTrain Set Accuracy :  0.9714285714285714\n",
      "\t\tTest Set Accuracy  :  0.9649122807017544\n",
      "\tENTROPY : \n",
      "\t\tTrain Set Accuracy :  0.9648351648351648\n",
      "\t\tTest Set Accuracy  :  0.9473684210526315\n",
      "\r\n",
      "DEPTH = 4\n",
      "\tGINI : \n",
      "\t\tTrain Set Accuracy :  0.9846153846153847\n",
      "\t\tTest Set Accuracy  :  0.956140350877193\n",
      "\tENTROPY : \n",
      "\t\tTrain Set Accuracy :  0.9868131868131869\n",
      "\t\tTest Set Accuracy  :  0.9385964912280702\n",
      "\r\n",
      "DEPTH = 5\n",
      "\tGINI : \n",
      "\t\tTrain Set Accuracy :  0.989010989010989\n",
      "\t\tTest Set Accuracy  :  0.9473684210526315\n",
      "\tENTROPY : \n",
      "\t\tTrain Set Accuracy :  0.9912087912087912\n",
      "\t\tTest Set Accuracy  :  0.9210526315789473\n",
      "\r\n",
      "DEPTH = 6\n",
      "\tGINI : \n",
      "\t\tTrain Set Accuracy :  0.9934065934065934\n",
      "\t\tTest Set Accuracy  :  0.9473684210526315\n",
      "\tENTROPY : \n",
      "\t\tTrain Set Accuracy :  0.9934065934065934\n",
      "\t\tTest Set Accuracy  :  0.9035087719298246\n"
     ]
    }
   ],
   "source": [
    "print(\"\\r\\nDEPTH = 1\");\n",
    "print(\"\\tGINI : \");\n",
    "print(\"\\t\\tTrain Set Accuracy : \", accuracy_score(y_train, y_pred_train_gin_d1));\n",
    "print(\"\\t\\tTest Set Accuracy  : \", accuracy_score(y_test, y_pred_test_gin_d1));\n",
    "print(\"\\tENTROPY : \");\n",
    "print(\"\\t\\tTrain Set Accuracy : \", accuracy_score(y_train, y_pred_train_ent_d1));\n",
    "print(\"\\t\\tTest Set Accuracy  : \", accuracy_score(y_test, y_pred_test_ent_d1));\n",
    "\n",
    "print(\"\\r\\nDEPTH = 2\");\n",
    "print(\"\\tGINI : \");\n",
    "print(\"\\t\\tTrain Set Accuracy : \", accuracy_score(y_train, y_pred_train_gin_d2));\n",
    "print(\"\\t\\tTest Set Accuracy  : \", accuracy_score(y_test, y_pred_test_gin_d2));\n",
    "print(\"\\tENTROPY : \");\n",
    "print(\"\\t\\tTrain Set Accuracy : \", accuracy_score(y_train, y_pred_train_ent_d2));\n",
    "print(\"\\t\\tTest Set Accuracy  : \", accuracy_score(y_test, y_pred_test_ent_d2));\n",
    "\n",
    "print(\"\\r\\nDEPTH = 3\");\n",
    "print(\"\\tGINI : \");\n",
    "print(\"\\t\\tTrain Set Accuracy : \", accuracy_score(y_train, y_pred_train_gin_d3));\n",
    "print(\"\\t\\tTest Set Accuracy  : \", accuracy_score(y_test, y_pred_test_gin_d3));\n",
    "print(\"\\tENTROPY : \");\n",
    "print(\"\\t\\tTrain Set Accuracy : \", accuracy_score(y_train, y_pred_train_ent_d3));\n",
    "print(\"\\t\\tTest Set Accuracy  : \", accuracy_score(y_test, y_pred_test_ent_d3));\n",
    "\n",
    "print(\"\\r\\nDEPTH = 4\");\n",
    "print(\"\\tGINI : \");\n",
    "print(\"\\t\\tTrain Set Accuracy : \", accuracy_score(y_train, y_pred_train_gin_d4));\n",
    "print(\"\\t\\tTest Set Accuracy  : \", accuracy_score(y_test, y_pred_test_gin_d4));\n",
    "print(\"\\tENTROPY : \");\n",
    "print(\"\\t\\tTrain Set Accuracy : \", accuracy_score(y_train, y_pred_train_ent_d4));\n",
    "print(\"\\t\\tTest Set Accuracy  : \", accuracy_score(y_test, y_pred_test_ent_d4));\n",
    "\n",
    "print(\"\\r\\nDEPTH = 5\");\n",
    "print(\"\\tGINI : \");\n",
    "print(\"\\t\\tTrain Set Accuracy : \", accuracy_score(y_train, y_pred_train_gin_d5));\n",
    "print(\"\\t\\tTest Set Accuracy  : \", accuracy_score(y_test, y_pred_test_gin_d5));\n",
    "print(\"\\tENTROPY : \");\n",
    "print(\"\\t\\tTrain Set Accuracy : \", accuracy_score(y_train, y_pred_train_ent_d5));\n",
    "print(\"\\t\\tTest Set Accuracy  : \", accuracy_score(y_test, y_pred_test_ent_d5));\n",
    "\n",
    "print(\"\\r\\nDEPTH = 6\");\n",
    "print(\"\\tGINI : \");\n",
    "print(\"\\t\\tTrain Set Accuracy : \", accuracy_score(y_train, y_pred_train_gin_d6));\n",
    "print(\"\\t\\tTest Set Accuracy  : \", accuracy_score(y_test, y_pred_test_gin_d6));\n",
    "print(\"\\tENTROPY : \");\n",
    "print(\"\\t\\tTrain Set Accuracy : \", accuracy_score(y_train, y_pred_train_ent_d6));\n",
    "print(\"\\t\\tTest Set Accuracy  : \", accuracy_score(y_test, y_pred_test_ent_d6));"
   ]
  },
  {
   "cell_type": "code",
   "execution_count": 14,
   "metadata": {},
   "outputs": [
    {
     "data": {
      "image/png": "[encoded data removed]",
      "text/plain": [
       "<Figure size 432x288 with 1 Axes>"
      ]
     },
     "metadata": {},
     "output_type": "display_data"
    }
   ],
   "source": [
    "%matplotlib inline\n",
    "import matplotlib.pyplot as plt\n",
    "plt.style.use(\"dark_background\")\n",
    "fig = plt.figure();\n",
    "ax  = plt.axes();\n",
    "ax.set_xlabel('Depth - 1');\n",
    "ax.set_ylabel('Accuracy');\n",
    "ax.set_title('Accuracy of Test and Train Datasets at Varying Depths');\n",
    "\n",
    "train_gin_accuracy_lst = [accuracy_score(y_train, y_pred_train_gin_d1),\n",
    "                          accuracy_score(y_train, y_pred_train_gin_d2),\n",
    "                          accuracy_score(y_train, y_pred_train_gin_d3),\n",
    "                          accuracy_score(y_train, y_pred_train_gin_d4),\n",
    "                          accuracy_score(y_train, y_pred_train_gin_d5),\n",
    "                          accuracy_score(y_train, y_pred_train_gin_d6)];\n",
    "\n",
    "test_gin_accuracy_lst  = [accuracy_score(y_test, y_pred_test_gin_d1), \n",
    "                         accuracy_score(y_test, y_pred_test_gin_d2), \n",
    "                         accuracy_score(y_test, y_pred_test_gin_d3), \n",
    "                         accuracy_score(y_test, y_pred_test_gin_d4), \n",
    "                         accuracy_score(y_test, y_pred_test_gin_d5), \n",
    "                         accuracy_score(y_test, y_pred_test_gin_d6)];\n",
    "\n",
    "train_ent_accuracy_lst = [accuracy_score(y_train, y_pred_train_ent_d1),\n",
    "                          accuracy_score(y_train, y_pred_train_ent_d2),\n",
    "                          accuracy_score(y_train, y_pred_train_ent_d3),\n",
    "                          accuracy_score(y_train, y_pred_train_ent_d4),\n",
    "                          accuracy_score(y_train, y_pred_train_ent_d5),\n",
    "                          accuracy_score(y_train, y_pred_train_ent_d6)];\n",
    "\n",
    "test_ent_accuracy_lst  = [accuracy_score(y_test, y_pred_test_ent_d1), \n",
    "                         accuracy_score(y_test, y_pred_test_ent_d2), \n",
    "                         accuracy_score(y_test, y_pred_test_ent_d3), \n",
    "                         accuracy_score(y_test, y_pred_test_ent_d4), \n",
    "                         accuracy_score(y_test, y_pred_test_ent_d5), \n",
    "                         accuracy_score(y_test, y_pred_test_ent_d6)];\n",
    "\n",
    "plt.plot(train_gin_accuracy_lst, label  =  \"Train GINI Accuracies\");\n",
    "plt.plot(test_gin_accuracy_lst, label   =  \"Test GINI Accuracies\");\n",
    "\n",
    "plt.plot(train_ent_accuracy_lst, label  =  \"Train ENTROPY Accuracies\");\n",
    "plt.plot(test_gin_accuracy_lst, label   =  \"Test ENTROPY Accuracies\");\n",
    "\n",
    "plt.legend(loc = \"lower right\", frameon =  True);\n",
    "\n"
   ]
  },
  {
   "cell_type": "markdown",
   "metadata": {},
   "source": [
    "Based on the accuracy data, it seems as if increasing the depth increases the accuracy for the Training Datasets whether the `GINI` or `ENTROPY` impurity was used for determining the information gain in the descision tree construction.\n",
    "\n",
    "However, the same cannot be said for the Testing Datasets. It seems that the accuracies peak at a `depth` equal to 2 or 3. This can be seen in both the `GINI` and `ENTROPY` cases.\n",
    "\n",
    "Little difference can be seem between the `GINI` and `ENTROPY` cases in terms of accuracy. The two testing datasets actually overlap each other on the plot and the training dataset plots are very similar. \n",
    "If anything, `GINI` is slighly higher."
   ]
  },
  {
   "cell_type": "markdown",
   "metadata": {},
   "source": [
    "## 4. Best model from the various tree depths based on test accuracy"
   ]
  },
  {
   "cell_type": "markdown",
   "metadata": {},
   "source": [
    "Based on the test accuracies the best cases seem to be the GINI impurity at depth 2 and the GINI impurity at depth 3. Both of the accuracies are the same. \n",
    "\n",
    "Since the other accuracies are slightly higher at depth 3 as opposed to 2, I will call the **GINI impurity at depth 3** the best decision tree model."
   ]
  },
  {
   "cell_type": "code",
   "execution_count": 15,
   "metadata": {},
   "outputs": [
    {
     "name": "stdout",
     "output_type": "stream",
     "text": [
      "Test Set Accuracy d = 2 :  0.9649122807017544\n",
      "Test Set Accuracy d = 3 :  0.9649122807017544\n"
     ]
    }
   ],
   "source": [
    "print(\"Test Set Accuracy d = 2 : \", accuracy_score(y_test, y_pred_test_gin_d2));\n",
    "print(\"Test Set Accuracy d = 3 : \", accuracy_score(y_test, y_pred_test_gin_d3));\n"
   ]
  },
  {
   "cell_type": "markdown",
   "metadata": {},
   "source": [
    "## 5. Compare with other methods"
   ]
  },
  {
   "cell_type": "markdown",
   "metadata": {},
   "source": [
    "### 5.1 Take top 10 features from the best decision tree model and subset these features to create a new dataframe."
   ]
  },
  {
   "cell_type": "code",
   "execution_count": 16,
   "metadata": {},
   "outputs": [
    {
     "name": "stdout",
     "output_type": "stream",
     "text": [
      "Number of Important Features :  6\n",
      "\r\n",
      "Dictionary of Important Features : \n",
      "\t mean smoothness  :  0.03640379409317912\n",
      "\t mean symmetry  :  0.018404140347107224\n",
      "\t texture error  :  0.010235317781474408\n",
      "\t worst perimeter  :  0.016643728645324384\n",
      "\t worst area  :  0.1446821190899303\n",
      "\t worst concave points  :  0.7736309000429845\n"
     ]
    }
   ],
   "source": [
    "important_features_dict = {};\n",
    "\n",
    "for i in range(len(tree_gin_d3.feature_importances_)) :\n",
    "    if (tree_gin_d3.feature_importances_[i] != 0.0) :\n",
    "        important_features_dict[cancer.feature_names[i]] = tree_gin_d3.feature_importances_[i]\n",
    "    else:\n",
    "        pass\n",
    "\n",
    "print(\"Number of Important Features : \", len(important_features_dict));\n",
    "print(\"\\r\\nDictionary of Important Features : \");\n",
    "for (k,v) in important_features_dict.items() :\n",
    "    print(\"\\t\", k,\" : \", v);"
   ]
  },
  {
   "cell_type": "code",
   "execution_count": 17,
   "metadata": {},
   "outputs": [],
   "source": [
    "data = np.c_[cancer.data, cancer.target];\n",
    "columns = np.append(cancer.feature_names, [\"target\"]);\n",
    "cancer_df = pd.DataFrame(data, columns = columns);\n",
    "\n",
    "for col in cancer_df.columns :\n",
    "    if col not in important_features_dict.keys() :\n",
    "        cancer_df = cancer_df.drop(columns = col);\n",
    "    else:\n",
    "        pass;"
   ]
  },
  {
   "cell_type": "markdown",
   "metadata": {},
   "source": [
    "### 5.2 SVM and logistic regression with just *10 features*."
   ]
  },
  {
   "cell_type": "code",
   "execution_count": 18,
   "metadata": {},
   "outputs": [
    {
     "data": {
      "image/png": "[encoded data removed]",
      "text/plain": [
       "<Figure size 432x288 with 1 Axes>"
      ]
     },
     "metadata": {},
     "output_type": "display_data"
    }
   ],
   "source": [
    "Y = cancer.target\n",
    "data_train , data_test, Y_train, Y_test = train_test_split(cancer_df,\n",
    "                                                           Y,\n",
    "                                                           test_size = 0.2, \n",
    "                                                           random_state = 0);\n",
    "\n",
    "import seaborn as sns;\n",
    "sns.set(color_codes = True);\n",
    "sns.distplot(data_test.iloc[:,2:]);\n"
   ]
  },
  {
   "cell_type": "code",
   "execution_count": 19,
   "metadata": {},
   "outputs": [
    {
     "data": {
      "image/png": "[encoded data removed]",
      "text/plain": [
       "<Figure size 432x288 with 1 Axes>"
      ]
     },
     "metadata": {},
     "output_type": "display_data"
    }
   ],
   "source": [
    "\n",
    "from sklearn.preprocessing import StandardScaler;\n",
    "sc = StandardScaler();\n",
    "sc.fit(data_train.iloc[:,2:]);\n",
    "data_train_std = sc.transform(data_train.iloc[:,2:]);\n",
    "data_test_std  = sc.transform(data_test.iloc[:,2:]);\n",
    "\n",
    "sns.distplot(data_test_std);"
   ]
  },
  {
   "cell_type": "markdown",
   "metadata": {},
   "source": [
    "#### SVM"
   ]
  },
  {
   "cell_type": "code",
   "execution_count": 20,
   "metadata": {},
   "outputs": [
    {
     "name": "stdout",
     "output_type": "stream",
     "text": [
      "SVM Train Set Accuracy :  0.9626373626373627\n",
      "SVM Test Set Accuracy  :  0.9473684210526315\n"
     ]
    }
   ],
   "source": [
    "from sklearn.svm import SVC;\n",
    "svm = SVC(kernel = \"rbf\", C = 1.0, random_state = 0);\n",
    "svm.fit(data_train_std, Y_train);\n",
    "\n",
    "Y_pred_train = svm.predict(data_train_std,);\n",
    "print(\"SVM Train Set Accuracy : \", accuracy_score(Y_train, Y_pred_train));\n",
    "\n",
    "Y_pred_test = svm.predict(data_test_std,);\n",
    "print(\"SVM Test Set Accuracy  : \", accuracy_score(Y_test, Y_pred_test));"
   ]
  },
  {
   "cell_type": "markdown",
   "metadata": {},
   "source": [
    "#### Logistic Regression"
   ]
  },
  {
   "cell_type": "code",
   "execution_count": 21,
   "metadata": {},
   "outputs": [
    {
     "name": "stdout",
     "output_type": "stream",
     "text": [
      "LR Train Set Accuracy :  0.9582417582417583\n",
      "LR Test Set Accuracy  :  0.9473684210526315\n"
     ]
    }
   ],
   "source": [
    "from sklearn.linear_model import LogisticRegression\n",
    "lr = LogisticRegression(penalty = 'l2', solver = \"lbfgs\", C= 1.0, random_state = 0);\n",
    "lr.fit(data_train_std, Y_train);\n",
    "\n",
    "Y_pred_train_LR = lr.predict(data_train_std);\n",
    "print(\"LR Train Set Accuracy : \", accuracy_score(Y_train, Y_pred_train_LR));\n",
    "\n",
    "Y_pred_test_LR  = lr.predict(data_test_std);\n",
    "print(\"LR Test Set Accuracy  : \", accuracy_score(Y_test, Y_pred_test_LR));\n"
   ]
  },
  {
   "cell_type": "markdown",
   "metadata": {},
   "source": [
    "## 6. Comparative assessment of best decision tree model with the ensemble of decision tree + svm and decision tree + logistic regression"
   ]
  },
  {
   "cell_type": "code",
   "execution_count": 22,
   "metadata": {},
   "outputs": [
    {
     "name": "stdout",
     "output_type": "stream",
     "text": [
      "ACCURACY COMPARISON - \r\n",
      "\n",
      "\tDECISION TREE\n",
      "\t\tBest DEC TREE Train Set Accuracy :  0.9516483516483516\n",
      "\t\tBest DEC TREE Test Set Accuracy  :  0.9649122807017544\n",
      "\r\n",
      "\tSVM\n",
      "\t\tSVM Train Set Accuracy :  0.9626373626373627\n",
      "\t\tSVM Test Set Accuracy  :  0.9473684210526315\n",
      "\r\n",
      "\tLOGISTIC REGRESSION\n",
      "\t\tLR Train Set Accuracy  :  0.9582417582417583\n",
      "\t\tLR Test Set Accuracy   :  0.9473684210526315\n",
      "\r\n",
      "\n",
      "MAX Training Accuracy -  SVM ( 0.9626373626373627 )\n",
      "MAX Testing Accuracy  -  DECISION TREE ( 0.9649122807017544 )\n"
     ]
    }
   ],
   "source": [
    "print(\"ACCURACY COMPARISON - \\r\\n\")\n",
    "\n",
    "print(\"\\tDECISION TREE\");\n",
    "print(\"\\t\\tBest DEC TREE Train Set Accuracy : \" , accuracy_score(y_train, y_pred_train_gin_d2));\n",
    "print(\"\\t\\tBest DEC TREE Test Set Accuracy  : \" , accuracy_score(y_test, y_pred_test_gin_d2));\n",
    "\n",
    "print(\"\\r\\n\\tSVM\");\n",
    "print(\"\\t\\tSVM Train Set Accuracy : \" , accuracy_score(Y_train, Y_pred_train));\n",
    "print(\"\\t\\tSVM Test Set Accuracy  : \" , accuracy_score(Y_test, Y_pred_test));\n",
    "\n",
    "print(\"\\r\\n\\tLOGISTIC REGRESSION\");\n",
    "print(\"\\t\\tLR Train Set Accuracy  : \"  , accuracy_score(Y_train, Y_pred_train_LR));\n",
    "print(\"\\t\\tLR Test Set Accuracy   : \"  , accuracy_score(Y_test, Y_pred_test_LR));\n",
    "\n",
    "lst_train = [accuracy_score(y_train, y_pred_train_gin_d2),\n",
    "             accuracy_score(Y_train, Y_pred_train),\n",
    "             accuracy_score(Y_train, Y_pred_train_LR)];\n",
    "\n",
    "lst_test  = [accuracy_score(y_test, y_pred_test_gin_d2), \n",
    "             accuracy_score(Y_test, Y_pred_test), \n",
    "             accuracy_score(Y_test, Y_pred_test_LR)];\n",
    "\n",
    "max_lst_train = max(lst_train);\n",
    "max_lst_test = max(lst_test);\n",
    "\n",
    "print(\"\\r\\n\");\n",
    "print(\"MAX Training Accuracy - \", \"SVM (\", max_lst_train, \")\")\n",
    "print(\"MAX Testing Accuracy  - \", \"DECISION TREE (\", max_lst_test, \")\")"
   ]
  },
  {
   "cell_type": "markdown",
   "metadata": {},
   "source": [
    "After computing the accuracies for both the testing and training data sets for all three methods, it can be seen that the Descision Tree model has the highest accuracy for the testing dataset. Also, the SVM method has the highest accuracy for the training dataset.\n",
    "\n",
    "Comparing the Decision Tree with SVM, the Training accuracy for the SVM was slightly higher. The testing accuracy was higher in the Decision Tree model.\n",
    "\n",
    "Comparing the Decision Tree with the LR, the accuracy of the LR was only a few thousandths higher. The testing accuracy was higher in the Decision Tree model."
   ]
  },
  {
   "cell_type": "code",
   "execution_count": null,
   "metadata": {},
   "outputs": [],
   "source": []
  },
  {
   "cell_type": "markdown",
   "metadata": {},
   "source": [
    "## Trying another tree"
   ]
  },
  {
   "cell_type": "markdown",
   "metadata": {},
   "source": [
    "So the test accuracy suggested that the Gini Tree with a depth of 3 should be chosen as the best tree model. However this only gave us 6 significant features. For this reason let's choose a tree with a greater depth to see if that changes anything."
   ]
  },
  {
   "cell_type": "code",
   "execution_count": 23,
   "metadata": {},
   "outputs": [
    {
     "name": "stdout",
     "output_type": "stream",
     "text": [
      "Number of Important Features :  9\n",
      "\r\n",
      "Dictionary of Important Features : \n",
      "\t mean texture  :  0.046056611470947584\n",
      "\t mean smoothness  :  0.026158870733899654\n",
      "\t mean symmetry  :  0.022654407964988986\n",
      "\t radius error  :  0.02037739568123065\n",
      "\t concave points error  :  0.006498800969681577\n",
      "\t symmetry error  :  0.02101989660291507\n",
      "\t worst texture  :  0.074252797652416\n",
      "\t worst perimeter  :  0.18865332879041974\n",
      "\t worst concave points  :  0.5943278901335006\n"
     ]
    }
   ],
   "source": [
    "important_features_dict = {};\n",
    "\n",
    "for i in range(len(tree_ent_d5.feature_importances_)) :\n",
    "    if (tree_ent_d6.feature_importances_[i] != 0.0) :\n",
    "        important_features_dict[cancer.feature_names[i]] = tree_ent_d6.feature_importances_[i]\n",
    "    else:\n",
    "        pass\n",
    "\n",
    "print(\"Number of Important Features : \", len(important_features_dict));\n",
    "print(\"\\r\\nDictionary of Important Features : \");\n",
    "for (k,v) in important_features_dict.items() :\n",
    "    print(\"\\t\", k,\" : \", v);\n",
    "    \n",
    "data = np.c_[cancer.data, cancer.target];\n",
    "columns = np.append(cancer.feature_names, [\"target\"]);\n",
    "cancer_df = pd.DataFrame(data, columns = columns);\n",
    "\n",
    "for col in cancer_df.columns :\n",
    "    if col not in important_features_dict.keys() :\n",
    "        cancer_df = cancer_df.drop(columns = col);\n",
    "    else:\n",
    "        pass;"
   ]
  },
  {
   "cell_type": "markdown",
   "metadata": {},
   "source": [
    "So after choosing the entropy tree of depth 6, we were able to get 9 important features."
   ]
  },
  {
   "cell_type": "markdown",
   "metadata": {},
   "source": [
    "### SVM"
   ]
  },
  {
   "cell_type": "code",
   "execution_count": 24,
   "metadata": {},
   "outputs": [
    {
     "name": "stdout",
     "output_type": "stream",
     "text": [
      "SVM Train Set Accuracy :  0.9802197802197802\n",
      "SVM Test Set Accuracy  :  0.956140350877193\n"
     ]
    }
   ],
   "source": [
    "Y = cancer.target\n",
    "data_train , data_test, Y_train, Y_test = train_test_split(cancer_df,\n",
    "                                                           Y,\n",
    "                                                           test_size = 0.2, \n",
    "                                                           random_state = 0);\n",
    "\n",
    "sns.set(color_codes = True);\n",
    "\n",
    "sc = StandardScaler();\n",
    "sc.fit(data_train.iloc[:,2:]);\n",
    "data_train_std = sc.transform(data_train.iloc[:,2:]);\n",
    "data_test_std  = sc.transform(data_test.iloc[:,2:]);\n",
    "\n",
    "svm = SVC(kernel = \"rbf\", C = 1.0, random_state = 0);\n",
    "svm.fit(data_train_std, Y_train);\n",
    "\n",
    "Y_pred_train = svm.predict(data_train_std,);\n",
    "print(\"SVM Train Set Accuracy : \", accuracy_score(Y_train, Y_pred_train));\n",
    "\n",
    "Y_pred_test = svm.predict(data_test_std,);\n",
    "print(\"SVM Test Set Accuracy  : \", accuracy_score(Y_test, Y_pred_test));"
   ]
  },
  {
   "cell_type": "markdown",
   "metadata": {},
   "source": [
    "This is a higher accuracy than the svm model with only 6 features"
   ]
  },
  {
   "cell_type": "markdown",
   "metadata": {},
   "source": [
    "### LR"
   ]
  },
  {
   "cell_type": "code",
   "execution_count": 25,
   "metadata": {},
   "outputs": [
    {
     "name": "stdout",
     "output_type": "stream",
     "text": [
      "LR Train Set Accuracy :  0.9758241758241758\n",
      "LR Test Set Accuracy  :  0.9473684210526315\n"
     ]
    }
   ],
   "source": [
    "lr = LogisticRegression(penalty = 'l2', solver = \"lbfgs\", C= 1.0, random_state = 0);\n",
    "lr.fit(data_train_std, Y_train);\n",
    "\n",
    "Y_pred_train_LR = lr.predict(data_train_std);\n",
    "print(\"LR Train Set Accuracy : \", accuracy_score(Y_train, Y_pred_train_LR));\n",
    "\n",
    "Y_pred_test_LR  = lr.predict(data_test_std);\n",
    "print(\"LR Test Set Accuracy  : \", accuracy_score(Y_test, Y_pred_test_LR));"
   ]
  },
  {
   "cell_type": "markdown",
   "metadata": {},
   "source": [
    "This is also a higher accuracy than the svm model with only 6 features"
   ]
  },
  {
   "cell_type": "markdown",
   "metadata": {},
   "source": [
    "### Comparison"
   ]
  },
  {
   "cell_type": "code",
   "execution_count": 27,
   "metadata": {},
   "outputs": [
    {
     "name": "stdout",
     "output_type": "stream",
     "text": [
      "ACCURACY COMPARISON - \r\n",
      "\n",
      "\tDECISION TREE\n",
      "\t\tBest DEC TREE Train Set Accuracy :  0.9934065934065934\n",
      "\t\tBest DEC TREE Test Set Accuracy  :  0.9035087719298246\n",
      "\r\n",
      "\tSVM\n",
      "\t\tSVM Train Set Accuracy :  0.9802197802197802\n",
      "\t\tSVM Test Set Accuracy  :  0.956140350877193\n",
      "\r\n",
      "\tLOGISTIC REGRESSION\n",
      "\t\tLR Train Set Accuracy  :  0.9758241758241758\n",
      "\t\tLR Test Set Accuracy   :  0.9473684210526315\n",
      "\r\n",
      "\n",
      "MAX Training Accuracy -  DECISION TREE ( 0.9934065934065934 )\n",
      "MAX Testing Accuracy  -  SVM ( 0.956140350877193 )\n"
     ]
    }
   ],
   "source": [
    "print(\"ACCURACY COMPARISON - \\r\\n\")\n",
    "\n",
    "print(\"\\tDECISION TREE\");\n",
    "print(\"\\t\\tBest DEC TREE Train Set Accuracy : \" , accuracy_score(y_train, y_pred_train_ent_d6));\n",
    "print(\"\\t\\tBest DEC TREE Test Set Accuracy  : \" , accuracy_score(y_test, y_pred_test_ent_d6));\n",
    "\n",
    "print(\"\\r\\n\\tSVM\");\n",
    "print(\"\\t\\tSVM Train Set Accuracy : \" , accuracy_score(Y_train, Y_pred_train));\n",
    "print(\"\\t\\tSVM Test Set Accuracy  : \" , accuracy_score(Y_test, Y_pred_test));\n",
    "\n",
    "print(\"\\r\\n\\tLOGISTIC REGRESSION\");\n",
    "print(\"\\t\\tLR Train Set Accuracy  : \"  , accuracy_score(Y_train, Y_pred_train_LR));\n",
    "print(\"\\t\\tLR Test Set Accuracy   : \"  , accuracy_score(Y_test, Y_pred_test_LR));\n",
    "\n",
    "lst_train = [accuracy_score(y_train, y_pred_train_ent_d6),\n",
    "             accuracy_score(Y_train, Y_pred_train),\n",
    "             accuracy_score(Y_train, Y_pred_train_LR)];\n",
    "\n",
    "lst_test  = [accuracy_score(y_test, y_pred_test_ent_d6), \n",
    "             accuracy_score(Y_test, Y_pred_test), \n",
    "             accuracy_score(Y_test, Y_pred_test_LR)];\n",
    "\n",
    "max_lst_train = max(lst_train);\n",
    "max_lst_test = max(lst_test);\n",
    "\n",
    "print(\"\\r\\n\");\n",
    "print(\"MAX Training Accuracy - \", \"DECISION TREE (\", max_lst_train, \")\")\n",
    "print(\"MAX Testing Accuracy  - \", \"SVM (\", max_lst_test, \")\")"
   ]
  },
  {
   "cell_type": "markdown",
   "metadata": {},
   "source": [
    "So the decison tree chosen actually had the lowest test accuracy. As a result, SVM had the highest test accuracy, and the decision tree model had the best training accuracy. It should be noted that having a tree with a greater depth allowed more features to be considered - allowing for the SVM and LR models to be more accurate."
   ]
  },
  {
   "cell_type": "code",
   "execution_count": null,
   "metadata": {},
   "outputs": [],
   "source": []
  }
 ],
 "metadata": {
  "kernelspec": {
   "display_name": "Python 3",
   "language": "python",
   "name": "python3"
  },
  "language_info": {
   "codemirror_mode": {
    "name": "ipython",
    "version": 3
   },
   "file_extension": ".py",
   "mimetype": "text/x-python",
   "name": "python",
   "nbconvert_exporter": "python",
   "pygments_lexer": "ipython3",
   "version": "3.7.4"
  }
 },
 "nbformat": 4,
 "nbformat_minor": 4
}
